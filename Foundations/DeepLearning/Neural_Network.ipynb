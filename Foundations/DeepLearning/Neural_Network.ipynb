{
  "nbformat": 4,
  "nbformat_minor": 0,
  "metadata": {
    "colab": {
      "provenance": [],
      "authorship_tag": "ABX9TyN022m+dvCZbQNpxPaauBdq"
    },
    "kernelspec": {
      "name": "python3",
      "display_name": "Python 3"
    },
    "language_info": {
      "name": "python"
    }
  },
  "cells": [
    {
      "cell_type": "markdown",
      "source": [
        "## Activation Function\n",
        "\n",
        "- 활성화 함수는 입력 신호의 총합이 활성화를 일으키는지를 결정하는 역할을 한다.\n",
        "- 퍼셉트론과 신경망의 주요 차이점은 활성화 함수의 유무이다."
      ],
      "metadata": {
        "id": "f9tKdLCbaGzD"
      }
    },
    {
      "cell_type": "markdown",
      "source": [
        "### Step Function"
      ],
      "metadata": {
        "id": "jbtRRJFnm-VR"
      }
    },
    {
      "cell_type": "code",
      "execution_count": null,
      "metadata": {
        "id": "ma9EHylg-h65"
      },
      "outputs": [],
      "source": [
        "# Step Function : 입력이 임계값을 넘기면 1 아니면 0\n",
        "\n",
        "# 실수(부동소수점)만 받아들이는 형태의 계단함수\n",
        "def step_fn(x):\n",
        "  if x > 0:\n",
        "    return 1\n",
        "  else:\n",
        "    return 0\n",
        "\n",
        "# Numpy Array를 받아들이는 형태로 수정\n",
        "import numpy as np\n",
        "\n",
        "def step_fn_np(x):\n",
        "  y = x > 0 # 넘파이 배열에 부등호 연산을 수행하여 bool type 반환\n",
        "  return y.astype(np.int64) # bool을 int로 변환"
      ]
    },
    {
      "cell_type": "code",
      "source": [
        "# Run Line by Line\n",
        "import numpy as np\n",
        "\n",
        "x = np.array([-1.0, 1.0, 2.])\n",
        "print(x)\n",
        "y = x>0\n",
        "print(y)\n",
        "\n",
        "y = y.astype(np.int64)\n",
        "y"
      ],
      "metadata": {
        "colab": {
          "base_uri": "https://localhost:8080/"
        },
        "id": "JzP_kAvLoy7i",
        "outputId": "cb6be2de-99b8-43e5-d82f-e383c9e855e9"
      },
      "execution_count": null,
      "outputs": [
        {
          "output_type": "stream",
          "name": "stdout",
          "text": [
            "[-1.  1.  2.]\n",
            "[False  True  True]\n"
          ]
        },
        {
          "output_type": "execute_result",
          "data": {
            "text/plain": [
              "array([0, 1, 1])"
            ]
          },
          "metadata": {},
          "execution_count": 19
        }
      ]
    },
    {
      "cell_type": "code",
      "source": [
        "# Visualize Step Function\n",
        "import numpy as np\n",
        "import matplotlib.pylab as plt\n",
        "\n",
        "def step_function(x):\n",
        "  return np.array(x>0, dtype=np.int64)\n",
        "\n",
        "x = np.arange(-5.0, 5.0, 0.1)\n",
        "y = step_function(x)\n",
        "\n",
        "plt.plot(x,y)\n",
        "plt.ylim(-0.1, 1.1) # y축 범위 지정\n",
        "plt.show()"
      ],
      "metadata": {
        "colab": {
          "base_uri": "https://localhost:8080/",
          "height": 430
        },
        "id": "PGxkLJMypgHR",
        "outputId": "9ef00bc9-b134-4dd4-d1aa-35fbc556d007"
      },
      "execution_count": null,
      "outputs": [
        {
          "output_type": "display_data",
          "data": {
            "text/plain": [
              "<Figure size 640x480 with 1 Axes>"
            ],
            "image/png": "[encoded data removed]"
          },
          "metadata": {}
        }
      ]
    },
    {
      "cell_type": "markdown",
      "source": [
        "### Sigmoid Function\n",
        "\n",
        "$h(x) = {1 \\over 1+exp(-x)}$"
      ],
      "metadata": {
        "id": "SCW7kUOml7QI"
      }
    },
    {
      "cell_type": "code",
      "source": [
        "# Sigmoid Function\n",
        "import numpy as np\n",
        "\n",
        "def sigmoid(x):\n",
        "  return 1 / (1+np.exp(-x))"
      ],
      "metadata": {
        "id": "iluB_1gJpjdB"
      },
      "execution_count": null,
      "outputs": []
    },
    {
      "cell_type": "code",
      "source": [
        "import numpy as np\n",
        "\n",
        "x = np.array([-1.0, 1.0, 2.0])\n",
        "sigmoid(x)"
      ],
      "metadata": {
        "colab": {
          "base_uri": "https://localhost:8080/"
        },
        "id": "6gyM7Z7LjXT3",
        "outputId": "59fb982e-f6e1-4cca-e040-508ad9cfff4f"
      },
      "execution_count": null,
      "outputs": [
        {
          "output_type": "execute_result",
          "data": {
            "text/plain": [
              "array([0.26894142, 0.73105858, 0.88079708])"
            ]
          },
          "metadata": {},
          "execution_count": 2
        }
      ]
    },
    {
      "cell_type": "code",
      "source": [
        "# Visualize Sigmoid Function\n",
        "import numpy as np\n",
        "import matplotlib.pylab as plt\n",
        "\n",
        "def sigmoid(x):\n",
        "  return 1 / (1+np.exp(-x))\n",
        "\n",
        "x = np.arange(-5.0, 5.0, 0.1)\n",
        "y = sigmoid(x)\n",
        "\n",
        "plt.plot(x,y)\n",
        "plt.ylim(-0.1, 1.1)\n",
        "plt.show()"
      ],
      "metadata": {
        "colab": {
          "base_uri": "https://localhost:8080/",
          "height": 430
        },
        "id": "zxODeZtNul-O",
        "outputId": "cf4a1e8e-61ec-46ee-a3a6-9ee371afca4f"
      },
      "execution_count": null,
      "outputs": [
        {
          "output_type": "display_data",
          "data": {
            "text/plain": [
              "<Figure size 640x480 with 1 Axes>"
            ],
            "image/png": "[encoded data removed]"
          },
          "metadata": {}
        }
      ]
    },
    {
      "cell_type": "markdown",
      "source": [
        "### Compare Sigmoid Function and Step Function\n",
        "\n",
        "- 두 함수 모두 입력이 작을 때의 출력은 0에 가깝거나 0, 입력이 클 때의 출력은 1에 가깝거나 1이 되는 구조이다.\n",
        "- 0 또는 1 중 하나의 값만 리턴하는 스텝 함수와 다르게, 시그모이드 함수는 곡선 형태의 함수로, 그 값이 연속적인 실수의 형태로 흐른다."
      ],
      "metadata": {
        "id": "v9I3-fh5vFh1"
      }
    },
    {
      "cell_type": "code",
      "source": [
        "import numpy as np\n",
        "import matplotlib.pylab as plt\n",
        "\n",
        "def step_function(x):\n",
        "  return np.array(x>0, dtype=np.int64)\n",
        "\n",
        "def sigmoid(x):\n",
        "  return 1 / (1+np.exp(-x))\n",
        "\n",
        "\n",
        "x = np.arange(-5.0, 5.0, 0.1)\n",
        "\n",
        "# Visualize Step Function and Sigmoid Function\n",
        "y_step = step_function(x)\n",
        "y_sigmoid = sigmoid(x)\n",
        "\n",
        "plt.plot(x,y_step)\n",
        "plt.plot(x, y_sigmoid)\n",
        "plt.ylim(-0.1, 1.1)\n",
        "\n",
        "plt.show()"
      ],
      "metadata": {
        "colab": {
          "base_uri": "https://localhost:8080/",
          "height": 430
        },
        "id": "NnrDAI2bz62L",
        "outputId": "8b3f3393-7b64-44f1-fe5d-1a45bb30eea1"
      },
      "execution_count": null,
      "outputs": [
        {
          "output_type": "display_data",
          "data": {
            "text/plain": [
              "<Figure size 640x480 with 1 Axes>"
            ],
            "image/png": "[encoded data removed]"
          },
          "metadata": {}
        }
      ]
    },
    {
      "cell_type": "markdown",
      "source": [
        "### Non Linear Function\n",
        "\n",
        "- 신경망의 활성화 함수로는 비선형 함수를 사용해야 한다. 선형 함수를 사용해 층수를 아무리 늘려도 의미가 없기 때문이다.\n",
        "\n",
        "- e.g. h(x) = cx인 선형 함수를 활성화 함수로 사용해 3층 네트워크를 만든다면:\n",
        "  - y(x) = h(h(h(x))) 인 네트워크가 된다.\n",
        "  - 이를 전개하면 y(x) = c * c * c * x\n",
        "  - 정리하면 y(x) = ax ($a = c^3$)\n",
        "  - 이는 은닉층이 없는 네트워크와 같다고 할 수 있으며, 층을 늘리는 의미가 없다고 볼 수 있다."
      ],
      "metadata": {
        "id": "W1u-p3u2wa34"
      }
    },
    {
      "cell_type": "markdown",
      "source": [
        "### ReLU Function(Rectified Linear Unit)\n",
        "\n",
        "- 0이 넘으면 그대로 출력하고, 0 이하의 값은 모두 0으로 출력하는 함수이다.\n",
        "\n",
        "$$\n",
        "h(x) =\n",
        "\\begin{cases}\n",
        "x & (x > 0) \\\\\n",
        "0 & (x \\le 0)\n",
        "\\end{cases}\n",
        "$$\n",
        "\n",
        "\n"
      ],
      "metadata": {
        "id": "Pv-KZNqCmGtV"
      }
    },
    {
      "cell_type": "code",
      "source": [
        "import numpy as np\n",
        "def relu(x):\n",
        "  return np.maximum(0,x)"
      ],
      "metadata": {
        "id": "Lbf56pd1wOA_"
      },
      "execution_count": null,
      "outputs": []
    },
    {
      "cell_type": "markdown",
      "source": [
        "## Calculate Multidimensional array"
      ],
      "metadata": {
        "id": "Ue9Ms6vdn5LW"
      }
    },
    {
      "cell_type": "markdown",
      "source": [
        "### Multidimensional array and Matrix Multiplication\n",
        "\n",
        "- 행렬의 특성을 이해하면 대부분이 설명되므로 이후 설명을 생략한다.\n",
        "\n",
        "참고사항\n",
        "\n",
        "- Numpy의 1차원 연산 시 특징\n",
        "\n",
        "  - a = [[1,2], [3,4], [5,6]]\n",
        "  - a' = [[1,3,5], [2,4,6]]\n",
        "  - b = [7,8]\n",
        "\n",
        "1. a * b는 3x2 행렬과 2x1 행렬의 곱과 같은 과정으로 이루어진다.\n",
        "  - 즉, b는 계산에서 [[7],[8]]처럼 취급\n",
        "2. b * a'는 1x2 행렬과 2*3 행렬의 곱과 같은 과정으로 이루어진다.\n",
        "  - 즉, b는 계산에서 [[7,8]]처럼 취급\n",
        "\n",
        "- 여기서, 수학적으로 1.은 3x1행렬아며, 2.는 1x3행렬이다.\n",
        "- 그러나, NumPy 연산에선, 해당 결과 모두 1차원으로 차원 축소되서 같은 차원을 반환한다.\n",
        "  - 계산의 값이 동일하게 나온다는 의미 X\n"
      ],
      "metadata": {
        "id": "hvUVV3gtoLMC"
      }
    },
    {
      "cell_type": "markdown",
      "source": [
        "### Matrix Multiplication in Neural Network"
      ],
      "metadata": {
        "id": "gmR_YtGN3T8t"
      }
    },
    {
      "cell_type": "code",
      "source": [
        "import numpy as np\n",
        "\n",
        "X = np.array([1,2]) # 1D array, (2, )\n",
        "\n",
        "W = np.array([[1,3,5], [2,4,6]]) # 2D array, (2,3)\n",
        "\n",
        "Y = np.dot(X,W)\n",
        "Y"
      ],
      "metadata": {
        "id": "cD7-dja2utvq",
        "colab": {
          "base_uri": "https://localhost:8080/"
        },
        "outputId": "fa1e3dd6-27d2-4a77-f0a4-36746aa31d71"
      },
      "execution_count": null,
      "outputs": [
        {
          "output_type": "execute_result",
          "data": {
            "text/plain": [
              "array([ 5, 11, 17])"
            ]
          },
          "metadata": {},
          "execution_count": 6
        }
      ]
    },
    {
      "cell_type": "markdown",
      "source": [
        "## Implementation of a 3-layer neural network"
      ],
      "metadata": {
        "id": "6H9sesJF8qXc"
      }
    },
    {
      "cell_type": "code",
      "source": [
        "# Forward Propagation from 0 to 1-Layer : A(1) = XW(1) + B(1)\n",
        "\n",
        "import numpy as np\n",
        "\n",
        "X = np.array([1.0, 0.5])\n",
        "W1 = np.array([[.1, .3, .5], [.2, .4, .6]])\n",
        "B1 = np.array([.1, .2, .3])\n",
        "\n",
        "print(W1.shape, X.shape, B1.shape)\n",
        "\n",
        "A1 = np.dot(X, W1) +B1"
      ],
      "metadata": {
        "colab": {
          "base_uri": "https://localhost:8080/"
        },
        "id": "waq6sVgA8z8p",
        "outputId": "3885899f-b3ac-4ecc-f3d2-ef75a1887e99"
      },
      "execution_count": null,
      "outputs": [
        {
          "output_type": "stream",
          "name": "stdout",
          "text": [
            "(2, 3) (2,) (3,)\n"
          ]
        }
      ]
    },
    {
      "cell_type": "code",
      "source": [
        "# Apply activation function on 1-Layer\n",
        "import numpy as np\n",
        "\n",
        "def sigmoid(x):\n",
        "  return 1 / (1+np.exp(-x))\n",
        "\n",
        "\n",
        "Z1 =sigmoid(A1)\n",
        "\n",
        "print(A1)\n",
        "print(Z1)"
      ],
      "metadata": {
        "colab": {
          "base_uri": "https://localhost:8080/"
        },
        "id": "4Yvsbwqc7UBp",
        "outputId": "220eb4e2-1284-4bff-cada-0d914306443e"
      },
      "execution_count": null,
      "outputs": [
        {
          "output_type": "stream",
          "name": "stdout",
          "text": [
            "[0.3 0.7 1.1]\n",
            "[0.57444252 0.66818777 0.75026011]\n"
          ]
        }
      ]
    },
    {
      "cell_type": "code",
      "source": [
        "# Forward Propagation from 1 to 2-Layer,\n",
        "# and Apply activation function on 2-Layer\n",
        "\n",
        "import numpy as np\n",
        "\n",
        "W2 = np.array([[.1, .4], [.2, .5], [.3, .6]])\n",
        "B2 = np.array([.1, .2])\n",
        "\n",
        "print(Z1.shape, W2.shape, B2.shape)\n",
        "\n",
        "A2 = np.dot(Z1, W2) +B2\n",
        "Z2 =sigmoid(A2)"
      ],
      "metadata": {
        "colab": {
          "base_uri": "https://localhost:8080/"
        },
        "id": "GgSDvzyM9BXr",
        "outputId": "9f9c90f6-4002-4f21-851f-6ee9c7a6fe7c"
      },
      "execution_count": null,
      "outputs": [
        {
          "output_type": "stream",
          "name": "stdout",
          "text": [
            "(3,) (3, 2) (2,)\n"
          ]
        }
      ]
    },
    {
      "cell_type": "code",
      "source": [
        "# Forward Propagation from 2-Layer to Output Layer\n",
        "import numpy as np\n",
        "\n",
        "# 출력층의 활성함수는 Target Problem에 따라 다르게 정의한다. (e.g. Identity_fn, Sigmoid_fn, Softmax, etc.)\n",
        "def identity_function(x): # 항등함수이므로 결과가 바뀌진 않지만, 여기선 흐름의 일관성을 유지하기 위해 적용\n",
        "  return x\n",
        "\n",
        "W3 = np.array([[.1, .3], [.2, .4]])\n",
        "B3 = np.array([.1, .2])\n",
        "\n",
        "A3 = np.dot(Z2, W3) + B3\n",
        "Y = identity_function(A3) # 항등함수이므로 Y= A3"
      ],
      "metadata": {
        "id": "hIbA8bugBrZU"
      },
      "execution_count": null,
      "outputs": []
    },
    {
      "cell_type": "code",
      "source": [
        "# Implementation of a 3-layer neural network(Forward Propagation)\n",
        "\n",
        "# 관례 :\n",
        "## 가중치 : W1, W2, ..., 대문자\n",
        "## 편향, 중간 결과 등 : a1, a2, z1, z2, ..., 소문자\n",
        "\n",
        "import numpy as np\n",
        "\n",
        "def sigmoid(x):\n",
        "  return 1 / (1+np.exp(-x))\n",
        "\n",
        "def identity_function(x):\n",
        "  return x\n",
        "\n",
        "# initial weight, bias\n",
        "def init_network():\n",
        "  network = {} # dict, append parameter\n",
        "  network['W1'] = np.array([[.1, .3, .5], [.2, .4, .6]])\n",
        "  network['b1'] = np.array([.1, .2, .3])\n",
        "  network['W2'] = np.array([[.1, .4], [.2, .5], [.3, .6]])\n",
        "  network['b2'] = np.array([.1, .2])\n",
        "  network['W3'] = np.array([[.1, .3], [.2, .4]])\n",
        "  network['b3'] = np.array([.1, .2])\n",
        "\n",
        "  return network\n",
        "\n",
        "# processing, input -> output\n",
        "def forward(network, x):\n",
        "  W1, W2, W3 = network['W1'], network['W2'], network['W3']\n",
        "  b1, b2, b3 = network['b1'], network['b2'], network['b3']\n",
        "\n",
        "  a1 = np.dot(x, W1) + b1\n",
        "  z1 = sigmoid(a1)\n",
        "  a2 = np.dot(z1, W2) + b2\n",
        "  z2 = sigmoid(a2)\n",
        "  a3 = np.dot(z2, W3) + b3\n",
        "  y = identity_function(a3)\n",
        "\n",
        "  return y\n",
        "\n",
        "\n",
        "network = init_network()\n",
        "x = np.array([1.0, 0.5])\n",
        "y = forward(network, x)\n",
        "\n",
        "print(y)"
      ],
      "metadata": {
        "colab": {
          "base_uri": "https://localhost:8080/"
        },
        "id": "patXhB1KD7Tn",
        "outputId": "a26acf8e-329a-4e25-d5bf-c0042d170e8e"
      },
      "execution_count": null,
      "outputs": [
        {
          "output_type": "stream",
          "name": "stdout",
          "text": [
            "[0.31682708 0.69627909]\n"
          ]
        }
      ]
    },
    {
      "cell_type": "markdown",
      "source": [
        "## Output Layer\n",
        "\n",
        "- Classification(분류), Regression(회귀), 어떤 문제를 선택하느냐에 따라서 출력층의 활성화 함수를 다르게 선택한다.\n",
        "\n",
        "- 대표적으로, 분류의 경우 Softmax를, 회귀의 경우 Identity function을 채택한다."
      ],
      "metadata": {
        "id": "RbvQwjgrHa14"
      }
    },
    {
      "cell_type": "markdown",
      "source": [
        "### Implement Identity function and Softmax function\n",
        "\n",
        "- 항등 함수 : 입력을 그대로 출력한다.\n",
        "\n",
        "- 소프트맥스 함수 :\n",
        "  - n : 출력층의 뉴런 수\n",
        "  - $y_k$ : 그중 k번째 출력임을 의미\n",
        "\n",
        "$$\n",
        "y_k = {exp(a_k) \\over \\sum^n_{i=1}{exp(a_i)}}\n",
        "$$\n",
        "\n",
        "- 위의 식과 같이 소프트맥스 함수의, 분자는 입력 신호 $a_k$의 지수 함수, 분모는 모든 입력 신호의 지수 함수의 합으로 구성된다.\n",
        "  - 해설 : 분모에서 보는 것처럼 출력층의 각 뉴련이 모든 입력 신호에 영향을 받는다.\n",
        "  - 즉, 소프트맥스의 출력은 모든 입력 신호로부터 화살표(영향)를 받는다."
      ],
      "metadata": {
        "id": "vq7tXT3NIw3h"
      }
    },
    {
      "cell_type": "code",
      "source": [
        "# Implement Softmax function from scratch\n",
        "import numpy as np\n",
        "\n",
        "a = np.array([.3, 2.9, 4.0])\n",
        "exp_a = np.exp(a) # numerator, e^a\n",
        "print(exp_a)\n",
        "\n",
        "sum_exp_a = np.sum(exp_a) # denominator, 지수 함수의 합\n",
        "print(sum_exp_a)\n",
        "\n",
        "y = exp_a / sum_exp_a\n",
        "print(y)"
      ],
      "metadata": {
        "colab": {
          "base_uri": "https://localhost:8080/"
        },
        "id": "zbjyjkGLTXq5",
        "outputId": "70ec5657-b6b6-40ed-9171-b479fab8d514"
      },
      "execution_count": null,
      "outputs": [
        {
          "output_type": "stream",
          "name": "stdout",
          "text": [
            "[ 1.34985881 18.17414537 54.59815003]\n",
            "74.1221542101633\n",
            "[0.01821127 0.24519181 0.73659691]\n"
          ]
        }
      ]
    },
    {
      "cell_type": "code",
      "source": [
        "import numpy as np\n",
        "\n",
        "def softmax(a):\n",
        "  exp_a = np.exp(a)\n",
        "  sum_exp_a = np.sum(exp_a)\n",
        "  y = exp_a / sum_exp_a\n",
        "\n",
        "  return y"
      ],
      "metadata": {
        "id": "chPnKLQVU59p"
      },
      "execution_count": null,
      "outputs": []
    },
    {
      "cell_type": "markdown",
      "source": [
        "### Things to note of implement softmax\n",
        "\n",
        "- 상기의 구현 방식은 수학적 절차상에선 문제가 없지만, 컴퓨터로 계산할 때 문제가 발생할 수 있다.\n",
        "  - 지수 함수의 특성상 수의 크기가 커질수록 급격하게 증가한다. (e.g. e의 10승은 20,000이 넘고, e의 100승만 되도 0의 자릿수가 40개를 넘간다.)\n",
        "  - 해당 결과를 나누는 것 자체가 불안정하며, Overflow 문제를 유발한다."
      ],
      "metadata": {
        "id": "tMApJ35vVZhE"
      }
    },
    {
      "cell_type": "markdown",
      "source": [
        "이를 개선한 수식\n",
        "\n",
        "$$\n",
        "\\begin{align}\n",
        "y_k = {exp(a_k) \\over \\sum_{i=1}^n exp(a_i)} &= {C exp(a_k) \\over C \\sum_{i=1}^n exp(a_i)} \\\\\n",
        "& = {exp(a_k + logC) \\over \\sum_{i=1}^n exp(a_i + logC)} \\\\\n",
        "& = {exp(a_k + C') \\over \\sum_{i=1}^n exp(a_i + C')}\n",
        "\\end{align}\n",
        "$$\n",
        "\n",
        "지수를 계산할 때 어떤 정수를 더하거나 빼도 결과가 바뀌지 않는다는 점을 이용해, 임의의 정수 C를 log를 취하여 수식을 변경함으로써, 오버플로의 발생을 막는다."
      ],
      "metadata": {
        "id": "mk378r6bW7Uk"
      }
    },
    {
      "cell_type": "code",
      "source": [
        "import numpy as np\n",
        "\n",
        "a = np.array([1010, 1000, 990])\n",
        "a_ = np.exp(a) / np.sum(np.exp(a)) # softmax function\n",
        "print(a_)                          # Overflow\n",
        "\n",
        "c = np.max(a)                      # c = 1010 (maximum val)\n",
        "print(a - c)\n",
        "\n",
        "c_ = np.exp(a - c) / np.sum(np.exp(a - c))\n",
        "print(c_, '\\n')"
      ],
      "metadata": {
        "id": "zBjj0t6_VG0A",
        "colab": {
          "base_uri": "https://localhost:8080/"
        },
        "outputId": "1f77afba-d851-4995-fc37-58b32252d173"
      },
      "execution_count": null,
      "outputs": [
        {
          "output_type": "stream",
          "name": "stdout",
          "text": [
            "[nan nan nan]\n",
            "[  0 -10 -20]\n",
            "[9.99954600e-01 4.53978686e-05 2.06106005e-09] \n",
            "\n"
          ]
        },
        {
          "output_type": "stream",
          "name": "stderr",
          "text": [
            "<ipython-input-5-494db2a17e0b>:4: RuntimeWarning: overflow encountered in exp\n",
            "  a_ = np.exp(a) / np.sum(np.exp(a)) # softmax function\n",
            "<ipython-input-5-494db2a17e0b>:4: RuntimeWarning: invalid value encountered in divide\n",
            "  a_ = np.exp(a) / np.sum(np.exp(a)) # softmax function\n"
          ]
        }
      ]
    },
    {
      "cell_type": "code",
      "source": [
        "# Improvement Softmax function\n",
        "import numpy as np\n",
        "\n",
        "def softmax(a):\n",
        "  c = np.max(a)\n",
        "  exp_a = np.exp(a - c) # prevent overflow\n",
        "  sum_exp_a = np.sum(exp_a)\n",
        "  y = exp_a / sum_exp_a\n",
        "\n",
        "  return y"
      ],
      "metadata": {
        "id": "Ey1Rs7j2QhPS"
      },
      "execution_count": null,
      "outputs": []
    },
    {
      "cell_type": "code",
      "source": [
        "a = np.array([0.3, 2.9, 4.0])\n",
        "y = softmax(a)\n",
        "print(y)\n",
        "np.sum(y)\n",
        "\n",
        "# 소프트맥스 함수 출력은 0에서 1.0 사이의 실수\n",
        "# 소프트맥스 함수 출력의 총합은 1 (중요!)\n",
        "# + 이 성칠로 인해 소프트맥스 함수의 출력을 '확률'로 해석할 수 있다.\n",
        "# 주의 : 소프트맥수 함수의 적용이 각 원소의 대소 관계를 변화시키지 않는다.(y=exp(x)가 단조 증가 함수이므로)\n",
        "# + 즉, 소프트맥스 함수를 적용해도 가장 큰 출력값을 가진 뉴런의 위치는 바뀌지 않으므로,\n",
        "#   분류 시 출력층의 소프트맥스 함수를 생략해도 된다.(현업에서도 지수 함수 계산에 드는 자원 낭비를 줄이기 위해 생략하는 것이 일반적)\n",
        "#   학습 단계에서 소프트맥스를 적용하고, 추론 단계에선 생략"
      ],
      "metadata": {
        "colab": {
          "base_uri": "https://localhost:8080/"
        },
        "id": "vbwej0ncSaTV",
        "outputId": "7d354342-0ee3-43a8-b6f3-9d771658cbd7"
      },
      "execution_count": null,
      "outputs": [
        {
          "output_type": "stream",
          "name": "stdout",
          "text": [
            "[0.01821127 0.24519181 0.73659691]\n"
          ]
        },
        {
          "output_type": "execute_result",
          "data": {
            "text/plain": [
              "1.0"
            ]
          },
          "metadata": {},
          "execution_count": 9
        }
      ]
    },
    {
      "cell_type": "markdown",
      "source": [
        "## Handwritten Number Recognition"
      ],
      "metadata": {
        "id": "P15RWWaXaosA"
      }
    },
    {
      "cell_type": "code",
      "source": [
        "# Load MNIST Dataset\n",
        "\n",
        "from sklearn.datasets import fetch_openml\n",
        "mnist = fetch_openml('mnist_784', as_frame=False, parser='auto')\n",
        "mnist.data.shape, mnist.target.shape"
      ],
      "metadata": {
        "colab": {
          "base_uri": "https://localhost:8080/"
        },
        "id": "W7n4zcowZIZF",
        "outputId": "bedccc22-25fc-429d-a0a2-55f5fc28bc04"
      },
      "execution_count": 38,
      "outputs": [
        {
          "output_type": "execute_result",
          "data": {
            "text/plain": [
              "((70000, 784), (70000,))"
            ]
          },
          "metadata": {},
          "execution_count": 38
        }
      ]
    },
    {
      "cell_type": "code",
      "source": [
        "print(mnist.DESCR)"
      ],
      "metadata": {
        "colab": {
          "base_uri": "https://localhost:8080/"
        },
        "id": "TAn2jU5wZenV",
        "outputId": "0ad2ffc2-2737-4ad4-823c-aad0db686ef7"
      },
      "execution_count": 39,
      "outputs": [
        {
          "output_type": "stream",
          "name": "stdout",
          "text": [
            "**Author**: Yann LeCun, Corinna Cortes, Christopher J.C. Burges  \n",
            "**Source**: [MNIST Website](http://yann.lecun.com/exdb/mnist/) - Date unknown  \n",
            "**Please cite**:  \n",
            "\n",
            "The MNIST database of handwritten digits with 784 features, raw data available at: http://yann.lecun.com/exdb/mnist/. It can be split in a training set of the first 60,000 examples, and a test set of 10,000 examples  \n",
            "\n",
            "It is a subset of a larger set available from NIST. The digits have been size-normalized and centered in a fixed-size image. It is a good database for people who want to try learning techniques and pattern recognition methods on real-world data while spending minimal efforts on preprocessing and formatting. The original black and white (bilevel) images from NIST were size normalized to fit in a 20x20 pixel box while preserving their aspect ratio. The resulting images contain grey levels as a result of the anti-aliasing technique used by the normalization algorithm. the images were centered in a 28x28 image by computing the center of mass of the pixels, and translating the image so as to position this point at the center of the 28x28 field.  \n",
            "\n",
            "With some classification methods (particularly template-based methods, such as SVM and K-nearest neighbors), the error rate improves when the digits are centered by bounding box rather than center of mass. If you do this kind of pre-processing, you should report it in your publications. The MNIST database was constructed from NIST's NIST originally designated SD-3 as their training set and SD-1 as their test set. However, SD-3 is much cleaner and easier to recognize than SD-1. The reason for this can be found on the fact that SD-3 was collected among Census Bureau employees, while SD-1 was collected among high-school students. Drawing sensible conclusions from learning experiments requires that the result be independent of the choice of training set and test among the complete set of samples. Therefore it was necessary to build a new database by mixing NIST's datasets.  \n",
            "\n",
            "The MNIST training set is composed of 30,000 patterns from SD-3 and 30,000 patterns from SD-1. Our test set was composed of 5,000 patterns from SD-3 and 5,000 patterns from SD-1. The 60,000 pattern training set contained examples from approximately 250 writers. We made sure that the sets of writers of the training set and test set were disjoint. SD-1 contains 58,527 digit images written by 500 different writers. In contrast to SD-3, where blocks of data from each writer appeared in sequence, the data in SD-1 is scrambled. Writer identities for SD-1 is available and we used this information to unscramble the writers. We then split SD-1 in two: characters written by the first 250 writers went into our new training set. The remaining 250 writers were placed in our test set. Thus we had two sets with nearly 30,000 examples each. The new training set was completed with enough examples from SD-3, starting at pattern # 0, to make a full set of 60,000 training patterns. Similarly, the new test set was completed with SD-3 examples starting at pattern # 35,000 to make a full set with 60,000 test patterns. Only a subset of 10,000 test images (5,000 from SD-1 and 5,000 from SD-3) is available on this site. The full 60,000 sample training set is available.\n",
            "\n",
            "Downloaded from openml.org.\n"
          ]
        }
      ]
    },
    {
      "cell_type": "code",
      "source": [
        "mnist"
      ],
      "metadata": {
        "id": "DcwXUQujZi_c"
      },
      "execution_count": null,
      "outputs": []
    },
    {
      "cell_type": "code",
      "source": [
        "mnist.keys()"
      ],
      "metadata": {
        "colab": {
          "base_uri": "https://localhost:8080/"
        },
        "id": "uPfB0B9jZksH",
        "outputId": "0a8200c0-eff3-4782-d133-fed61ef812c6"
      },
      "execution_count": 41,
      "outputs": [
        {
          "output_type": "execute_result",
          "data": {
            "text/plain": [
              "dict_keys(['data', 'target', 'frame', 'categories', 'feature_names', 'target_names', 'DESCR', 'details', 'url'])"
            ]
          },
          "metadata": {},
          "execution_count": 41
        }
      ]
    },
    {
      "cell_type": "code",
      "source": [
        "mnist['data'][0]"
      ],
      "metadata": {
        "colab": {
          "base_uri": "https://localhost:8080/"
        },
        "id": "obJzNiErZn3e",
        "outputId": "dfcd9ed0-27ef-4c02-e42f-22fdf040fa4b"
      },
      "execution_count": 42,
      "outputs": [
        {
          "output_type": "execute_result",
          "data": {
            "text/plain": [
              "array([  0,   0,   0,   0,   0,   0,   0,   0,   0,   0,   0,   0,   0,\n",
              "         0,   0,   0,   0,   0,   0,   0,   0,   0,   0,   0,   0,   0,\n",
              "         0,   0,   0,   0,   0,   0,   0,   0,   0,   0,   0,   0,   0,\n",
              "         0,   0,   0,   0,   0,   0,   0,   0,   0,   0,   0,   0,   0,\n",
              "         0,   0,   0,   0,   0,   0,   0,   0,   0,   0,   0,   0,   0,\n",
              "         0,   0,   0,   0,   0,   0,   0,   0,   0,   0,   0,   0,   0,\n",
              "         0,   0,   0,   0,   0,   0,   0,   0,   0,   0,   0,   0,   0,\n",
              "         0,   0,   0,   0,   0,   0,   0,   0,   0,   0,   0,   0,   0,\n",
              "         0,   0,   0,   0,   0,   0,   0,   0,   0,   0,   0,   0,   0,\n",
              "         0,   0,   0,   0,   0,   0,   0,   0,   0,   0,   0,   0,   0,\n",
              "         0,   0,   0,   0,   0,   0,   0,   0,   0,   0,   0,   0,   0,\n",
              "         0,   0,   0,   0,   0,   0,   0,   0,   0,   3,  18,  18,  18,\n",
              "       126, 136, 175,  26, 166, 255, 247, 127,   0,   0,   0,   0,   0,\n",
              "         0,   0,   0,   0,   0,   0,   0,  30,  36,  94, 154, 170, 253,\n",
              "       253, 253, 253, 253, 225, 172, 253, 242, 195,  64,   0,   0,   0,\n",
              "         0,   0,   0,   0,   0,   0,   0,   0,  49, 238, 253, 253, 253,\n",
              "       253, 253, 253, 253, 253, 251,  93,  82,  82,  56,  39,   0,   0,\n",
              "         0,   0,   0,   0,   0,   0,   0,   0,   0,   0,  18, 219, 253,\n",
              "       253, 253, 253, 253, 198, 182, 247, 241,   0,   0,   0,   0,   0,\n",
              "         0,   0,   0,   0,   0,   0,   0,   0,   0,   0,   0,   0,   0,\n",
              "        80, 156, 107, 253, 253, 205,  11,   0,  43, 154,   0,   0,   0,\n",
              "         0,   0,   0,   0,   0,   0,   0,   0,   0,   0,   0,   0,   0,\n",
              "         0,   0,   0,  14,   1, 154, 253,  90,   0,   0,   0,   0,   0,\n",
              "         0,   0,   0,   0,   0,   0,   0,   0,   0,   0,   0,   0,   0,\n",
              "         0,   0,   0,   0,   0,   0,   0, 139, 253, 190,   2,   0,   0,\n",
              "         0,   0,   0,   0,   0,   0,   0,   0,   0,   0,   0,   0,   0,\n",
              "         0,   0,   0,   0,   0,   0,   0,   0,   0,  11, 190, 253,  70,\n",
              "         0,   0,   0,   0,   0,   0,   0,   0,   0,   0,   0,   0,   0,\n",
              "         0,   0,   0,   0,   0,   0,   0,   0,   0,   0,   0,   0,  35,\n",
              "       241, 225, 160, 108,   1,   0,   0,   0,   0,   0,   0,   0,   0,\n",
              "         0,   0,   0,   0,   0,   0,   0,   0,   0,   0,   0,   0,   0,\n",
              "         0,   0,  81, 240, 253, 253, 119,  25,   0,   0,   0,   0,   0,\n",
              "         0,   0,   0,   0,   0,   0,   0,   0,   0,   0,   0,   0,   0,\n",
              "         0,   0,   0,   0,   0,  45, 186, 253, 253, 150,  27,   0,   0,\n",
              "         0,   0,   0,   0,   0,   0,   0,   0,   0,   0,   0,   0,   0,\n",
              "         0,   0,   0,   0,   0,   0,   0,   0,  16,  93, 252, 253, 187,\n",
              "         0,   0,   0,   0,   0,   0,   0,   0,   0,   0,   0,   0,   0,\n",
              "         0,   0,   0,   0,   0,   0,   0,   0,   0,   0,   0,   0, 249,\n",
              "       253, 249,  64,   0,   0,   0,   0,   0,   0,   0,   0,   0,   0,\n",
              "         0,   0,   0,   0,   0,   0,   0,   0,   0,   0,   0,  46, 130,\n",
              "       183, 253, 253, 207,   2,   0,   0,   0,   0,   0,   0,   0,   0,\n",
              "         0,   0,   0,   0,   0,   0,   0,   0,   0,   0,   0,  39, 148,\n",
              "       229, 253, 253, 253, 250, 182,   0,   0,   0,   0,   0,   0,   0,\n",
              "         0,   0,   0,   0,   0,   0,   0,   0,   0,   0,   0,  24, 114,\n",
              "       221, 253, 253, 253, 253, 201,  78,   0,   0,   0,   0,   0,   0,\n",
              "         0,   0,   0,   0,   0,   0,   0,   0,   0,   0,   0,  23,  66,\n",
              "       213, 253, 253, 253, 253, 198,  81,   2,   0,   0,   0,   0,   0,\n",
              "         0,   0,   0,   0,   0,   0,   0,   0,   0,   0,   0,  18, 171,\n",
              "       219, 253, 253, 253, 253, 195,  80,   9,   0,   0,   0,   0,   0,\n",
              "         0,   0,   0,   0,   0,   0,   0,   0,   0,   0,   0,  55, 172,\n",
              "       226, 253, 253, 253, 253, 244, 133,  11,   0,   0,   0,   0,   0,\n",
              "         0,   0,   0,   0,   0,   0,   0,   0,   0,   0,   0,   0,   0,\n",
              "       136, 253, 253, 253, 212, 135, 132,  16,   0,   0,   0,   0,   0,\n",
              "         0,   0,   0,   0,   0,   0,   0,   0,   0,   0,   0,   0,   0,\n",
              "         0,   0,   0,   0,   0,   0,   0,   0,   0,   0,   0,   0,   0,\n",
              "         0,   0,   0,   0,   0,   0,   0,   0,   0,   0,   0,   0,   0,\n",
              "         0,   0,   0,   0,   0,   0,   0,   0,   0,   0,   0,   0,   0,\n",
              "         0,   0,   0,   0,   0,   0,   0,   0,   0,   0,   0,   0,   0,\n",
              "         0,   0,   0,   0,   0,   0,   0,   0,   0,   0,   0,   0,   0,\n",
              "         0,   0,   0,   0,   0,   0,   0,   0,   0,   0,   0,   0,   0,\n",
              "         0,   0,   0,   0])"
            ]
          },
          "metadata": {},
          "execution_count": 42
        }
      ]
    },
    {
      "cell_type": "code",
      "source": [
        "X, y = mnist.data, mnist.target; X"
      ],
      "metadata": {
        "colab": {
          "base_uri": "https://localhost:8080/"
        },
        "id": "tY0mZwKQZnwA",
        "outputId": "bc0ad6eb-81b9-4de0-ab69-cada4c65908e"
      },
      "execution_count": 49,
      "outputs": [
        {
          "output_type": "execute_result",
          "data": {
            "text/plain": [
              "array([[0, 0, 0, ..., 0, 0, 0],\n",
              "       [0, 0, 0, ..., 0, 0, 0],\n",
              "       [0, 0, 0, ..., 0, 0, 0],\n",
              "       ...,\n",
              "       [0, 0, 0, ..., 0, 0, 0],\n",
              "       [0, 0, 0, ..., 0, 0, 0],\n",
              "       [0, 0, 0, ..., 0, 0, 0]])"
            ]
          },
          "metadata": {},
          "execution_count": 49
        }
      ]
    },
    {
      "cell_type": "code",
      "source": [
        "y, y.shape"
      ],
      "metadata": {
        "colab": {
          "base_uri": "https://localhost:8080/"
        },
        "id": "txvhdOCpZ_rS",
        "outputId": "d40cd642-b899-4f88-e08b-d394d99eb2db"
      },
      "execution_count": 52,
      "outputs": [
        {
          "output_type": "execute_result",
          "data": {
            "text/plain": [
              "(array(['5', '0', '4', ..., '4', '5', '6'], dtype=object), (70000,))"
            ]
          },
          "metadata": {},
          "execution_count": 52
        }
      ]
    },
    {
      "cell_type": "code",
      "source": [
        "import matplotlib.pyplot as plt\n",
        "\n",
        "def plot_digit(img):\n",
        "  image = img.reshape(28, 28)\n",
        "  plt.imshow(image, cmap=\"binary\")\n",
        "  plt.axis(\"off\")\n",
        "\n",
        "mnist_digit = X[0]\n",
        "plot_digit(mnist_digit)\n",
        "plt.show()\n",
        "\n",
        "y[0]"
      ],
      "metadata": {
        "colab": {
          "base_uri": "https://localhost:8080/",
          "height": 424
        },
        "id": "Tl8-ke6RZ_lH",
        "outputId": "88d9d95a-c027-404e-a9e4-ef6661763598"
      },
      "execution_count": 57,
      "outputs": [
        {
          "output_type": "display_data",
          "data": {
            "text/plain": [
              "<Figure size 640x480 with 1 Axes>"
            ],
            "image/png": "[encoded data removed]"
          },
          "metadata": {}
        },
        {
          "output_type": "execute_result",
          "data": {
            "text/plain": [
              "'5'"
            ],
            "application/vnd.google.colaboratory.intrinsic+json": {
              "type": "string"
            }
          },
          "metadata": {},
          "execution_count": 57
        }
      ]
    },
    {
      "cell_type": "code",
      "source": [
        "# USe PIL Library\n",
        "\n",
        "import numpy as np\n",
        "from PIL import Image\n",
        "\n",
        "def img_show(img):\n",
        "  pil_img = Image.fromarray(np.uint8(img))\n",
        "  pil_img.show()\n",
        "\n",
        "img = mnist.data[:1].flatten()\n",
        "label = mnist.target[:1]\n",
        "print(label)\n",
        "\n",
        "print(img.shape)\n",
        "img = img.reshape(28, 28)\n",
        "print(img.shape)\n",
        "\n",
        "img_show(img)"
      ],
      "metadata": {
        "id": "l1tU2u0JZ4oE",
        "colab": {
          "base_uri": "https://localhost:8080/"
        },
        "outputId": "fdb916e9-f14d-4999-dde6-deb57a9cdb5c"
      },
      "execution_count": 56,
      "outputs": [
        {
          "output_type": "stream",
          "name": "stdout",
          "text": [
            "['5']\n",
            "(784,)\n",
            "(28, 28)\n"
          ]
        }
      ]
    },
    {
      "cell_type": "markdown",
      "source": [
        "Inference Network; MNIST Dataset\n",
        "\n",
        "Input Neuron : 784(28*28)\n",
        "Output Neuron : 10(0-9)\n",
        "\n",
        "Hidden Layer : 2\n",
        "- 1st Layer : 50 neuron\n",
        "- 2nd Layer : 100 neuron"
      ],
      "metadata": {
        "id": "65neli_OhCR2"
      }
    },
    {
      "cell_type": "code",
      "source": [
        "# Load MNIST Dataset\n",
        "\n",
        "from sklearn.datasets import fetch_openml\n",
        "mnist = fetch_openml('mnist_784', as_frame=False, parser='auto')\n",
        "mnist.data.shape, mnist.target.shape"
      ],
      "metadata": {
        "id": "XSv00DCgZ68l",
        "colab": {
          "base_uri": "https://localhost:8080/"
        },
        "outputId": "6c44baab-14db-49c1-e56c-4ed685605558"
      },
      "execution_count": 58,
      "outputs": [
        {
          "output_type": "execute_result",
          "data": {
            "text/plain": [
              "((70000, 784), (70000,))"
            ]
          },
          "metadata": {},
          "execution_count": 58
        }
      ]
    },
    {
      "cell_type": "code",
      "source": [
        "import pickle\n",
        "\n",
        "def get_data():\n",
        "  (x_train, t_train), (x_test, t_test) = \\\n",
        "    # load_mnist(normalize=True, flatten=True, one_hot_label=False) # Load data\n",
        "    # 별도의 데이터 로드 구현 필요\n",
        "\n",
        "  return x_test, t_test\n",
        "\n",
        "\n",
        "def init_network():\n",
        "  with open(\"sample_weight.pkl\", 'rb') as f:\n",
        "    network = pickle.load(f)\n",
        "\n",
        "  return network\n",
        "\n",
        "\n",
        "def predict(network, x):\n",
        "  W1, W2, W3 = network['W1'], network['W2'], network['W3']\n",
        "  b1, b2, b3 = network['b1'], network['b2'], network['b3']\n",
        "\n",
        "  a1 = np.dot(x, W1) +b1\n",
        "  z1 = sigmoid(a1)\n",
        "  a2 = np.dot(z1, W2) +b2\n",
        "  z2 = sigmoid(a2)\n",
        "  a3 = np.dot(z2, W3) +b3\n",
        "  y = softmax(a3)\n",
        "\n",
        "  return y"
      ],
      "metadata": {
        "id": "N7VXw15IZ65-"
      },
      "execution_count": null,
      "outputs": []
    },
    {
      "cell_type": "code",
      "source": [
        "x, t = get_data()\n",
        "network = init_network()\n",
        "\n",
        "accuracy_cnt = 0\n",
        "for i in range(len(x)):\n",
        "  y = predict(network, x[i])\n",
        "  p = np.argmax(y) # 확률이 가장 높은 원소의 인덱스를 획득 : 예측 결과\n",
        "  if p == t[i]:\n",
        "    accuracy_cnt += 1\n",
        "\n",
        "print (\"Accuracy:\" + str(float(accuracy_cnt) / len(x)))"
      ],
      "metadata": {
        "id": "dz-2Vl5KZ63o"
      },
      "execution_count": null,
      "outputs": []
    },
    {
      "cell_type": "code",
      "source": [
        "x, _ = get_data()\n",
        "network = init_network()\n",
        "W1, W2, W3 = network['W1'], network['W2'], network['W3']\n",
        "\n",
        "# 다차원 배열의 대응하는 차원의 원소 수가 일치한다.\n",
        "x.shape    # (10,000, 784)\n",
        "x[0].shape # (   784,    )\n",
        "W1.shape   # (   784,  50)\n",
        "W2.shape   # (    50, 100)\n",
        "W3.shape   # (   100,  10)"
      ],
      "metadata": {
        "id": "rD6nUuadZ61J"
      },
      "execution_count": null,
      "outputs": []
    },
    {
      "cell_type": "code",
      "source": [
        "# Batch Processing\n",
        "\n",
        "x, t = get_data()\n",
        "network = init_network()\n",
        "\n",
        "batch_size = 128 # config batch size\n",
        "accuracy_cnt = 0\n",
        "\n",
        "for i in range(0, len(x), batch_size):\n",
        "  x_batch = x[i:i+batch_size]\n",
        "  y_batch = predict(network, x_batch)\n",
        "  p = np.argmax(y_batch, axis=1)\n",
        "  accuracy_cnt += np.sum(p == t[i:i+batch_size])\n",
        "\n",
        "print (\"Accuracy:\" + str(float(accuracy_cnt) / len(x)))"
      ],
      "metadata": {
        "id": "Cm02d0sIZ6yU"
      },
      "execution_count": null,
      "outputs": []
    },
    {
      "cell_type": "code",
      "source": [
        "x = np.array([[0.1, 0.8, 0.1], [0.3, 0.1, 0.6], [0.2, 0.5, 0.3], [0.8, 0.1, 0.1]])\n",
        "y = np.argmax(x, axis=1) # 3*4에서 4\n",
        "print(y) # row0에서 1번째, row1에서 2번째, ..., row3에서 0번째가 최대값."
      ],
      "metadata": {
        "id": "tl0Fu0qLZ6vw",
        "colab": {
          "base_uri": "https://localhost:8080/"
        },
        "outputId": "dff65709-fd91-4d6b-d21e-2c51eabe009b"
      },
      "execution_count": 60,
      "outputs": [
        {
          "output_type": "stream",
          "name": "stdout",
          "text": [
            "[1 2 1 0]\n"
          ]
        }
      ]
    },
    {
      "cell_type": "code",
      "source": [
        "y = np.array ([1,2,1,0])\n",
        "t = np.array([1,2,0,0])\n",
        "print(y==t)\n",
        "np.sum(y==t)"
      ],
      "metadata": {
        "id": "cQglooTjZ6tL",
        "colab": {
          "base_uri": "https://localhost:8080/"
        },
        "outputId": "0bec6620-abab-4046-c16a-e7a6c6e7c2c8"
      },
      "execution_count": 61,
      "outputs": [
        {
          "output_type": "stream",
          "name": "stdout",
          "text": [
            "[ True  True False  True]\n"
          ]
        },
        {
          "output_type": "execute_result",
          "data": {
            "text/plain": [
              "3"
            ]
          },
          "metadata": {},
          "execution_count": 61
        }
      ]
    },
    {
      "cell_type": "code",
      "source": [],
      "metadata": {
        "id": "eAT4ZGQ_Z6lc"
      },
      "execution_count": null,
      "outputs": []
    },
    {
      "cell_type": "code",
      "source": [],
      "metadata": {
        "id": "2tKG_kQCZ6gb"
      },
      "execution_count": null,
      "outputs": []
    },
    {
      "cell_type": "markdown",
      "source": [
        "## Summary\n",
        "- 신경망에서는 활성화 함수로 시그모이드 함수와 ReLU 함수 같은 매끄럽게 변화하는 함수를 이용한다.\n",
        "- 넘파이의 다차원 배열을 잘 사용하면 신경망을 효율적으로 구현할 수 있다.\n",
        "- 기계학습 문제는 크게 회귀와 분류로 나눌 수 있다.\n",
        "- 출력층의 활성화 함수로는 회귀에서는 주로 항등 함수를, 분류에서는 주로 소프트맥스 함수 를 이용한다.\n",
        "- 분류에서는 출력층의 뉴런수를 분류하려는 클래스수와 같게 설정한다.\n",
        "- 입력 데이터를 묶은 것을 배치라 하며, 추론 처리를 이 배치 단위로 진행하면 결과를 훨씬 빠르게 얻을 수 있다."
      ],
      "metadata": {
        "id": "hk1xuLJaZaiT"
      }
    },
    {
      "cell_type": "code",
      "source": [],
      "metadata": {
        "id": "xqTbiRKbaDPL"
      },
      "execution_count": null,
      "outputs": []
    },
    {
      "cell_type": "code",
      "source": [],
      "metadata": {
        "id": "noWoLUciaD6x"
      },
      "execution_count": null,
      "outputs": []
    }
  ]
}