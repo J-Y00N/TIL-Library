{
  "cells": [
    {
      "cell_type": "markdown",
      "metadata": {
        "id": "9UUjYGMphiPo"
      },
      "source": [
        "## Single-layer Perceptron(Artificial Neuron)\n",
        "\n",
        "- 다수의 신호를 입력으로 받아 하나의 신호를 출력한다.\n",
        "- 1 또는 0 의 두가지 값을 가질 수 있다."
      ]
    },
    {
      "cell_type": "markdown",
      "metadata": {
        "id": "ZMOFP4oXhiKN"
      },
      "source": [
        "$\n",
        "y =\n",
        "\\begin{cases}\n",
        "0 & (x_1w_1 + x_2w_2 + ... + x_nw_n \\le \\theta) \\\\\n",
        "1 & (x_1w_1 + x_2w_2 + ... + x_nw_n > \\theta)\n",
        "\\end{cases}\n",
        "$\n",
        "\n",
        "- $y$ : 출력 신호(output)\n",
        "- $x_n$ : 입력 신호(input)\n",
        "- $w_n$ : 가중치(weight)\n",
        "- $\\theta$ : 임계값(threshold)\n",
        "\n",
        "\n",
        "퍼셉트론의 매개변수 값을 정하는 것은 컴퓨터가 아니라 사람.  \n",
        "인간이 직접 진리표(AND, NAND, OR)라는 ‘학습 데이터’를 보면서 매개변수의 값을 추론.  \n",
        "기계학습 문제는 이 매개변수의 값을 정하는 작업을 컴퓨터가 자동으로 수행.  \n",
        "학습이란 적절한 매개변수 값을 정하는 작업이며, 사람은 퍼셉트론의 구조(모델)를 고민하고 컴퓨터에 학습할 데이터를 주는 역할.  "
      ]
    },
    {
      "cell_type": "markdown",
      "metadata": {
        "id": "Mzfb1qdRnIY7"
      },
      "source": [
        "## Implement Perceptron"
      ]
    },
    {
      "cell_type": "code",
      "execution_count": 2,
      "metadata": {
        "id": "lSNJnYFbhh1k"
      },
      "outputs": [],
      "source": [
        "# AND gate, 고전적 방식\n",
        "\n",
        "def C_AND (x1, x2):\n",
        "  w1, w2, t = 0.5, 0.5, 0.7\n",
        "  tmp = x1*w1 + x2*w2\n",
        "  if tmp <= t:\n",
        "    return 0\n",
        "  elif tmp > t:\n",
        "    return 1"
      ]
    },
    {
      "cell_type": "code",
      "execution_count": 3,
      "metadata": {
        "colab": {
          "base_uri": "https://localhost:8080/"
        },
        "id": "rhqsRFr70Fd4",
        "outputId": "9792c971-d00a-409a-a32f-3188b4edfb7a"
      },
      "outputs": [
        {
          "name": "stdout",
          "output_type": "stream",
          "text": [
            "0\n",
            "0\n",
            "0\n",
            "1\n"
          ]
        }
      ],
      "source": [
        "print(C_AND(0,0))\n",
        "print(C_AND(1,0))\n",
        "print(C_AND(0,1))\n",
        "print(C_AND(1,1))"
      ]
    },
    {
      "cell_type": "markdown",
      "metadata": {
        "id": "qdtgYemErBSF"
      },
      "source": [
        "$\\theta$를 $-b$로 치환하여 정리하면,\n",
        "\n",
        "$\n",
        "y =\n",
        "\\begin{cases}\n",
        "1 & (b + x_1w_1 + x_2w_2 + ... + x_nw_n \\le o) \\\\\n",
        "0 & (b + x_1w_1 + x_2w_2 + ... + x_nw_n > o)\n",
        "\\end{cases}\n",
        "$\n",
        "\n",
        "편향은 가중치(w)와 기능이 다르다는 사실에 주의.  \n",
        "구체적으로 말하면,  \n",
        "- w는 각 입력 신호가 결과에 주는 영향력(중요도)을 조절하는 매개변수.  \n",
        "- 편향(b)은 뉴런이 얼마나 쉽게 활성화(결과로 1을 출력)하느냐를 조정하는 매개변수.  \n",
        "\n",
        "e.g. b가 -0.1이면 각 입력 신호에 가중치를 곱한 값들의 합이 0.1을 초과할 때만 뉴런이 활성화하는 반면 b가 -20.0이면 각 입력 신호에 가중치를 곱한 값들의 합이 20.0을 넘지 않으면 활성화하지 않는다."
      ]
    },
    {
      "cell_type": "code",
      "execution_count": 14,
      "metadata": {
        "id": "WP-FxMefoJE0"
      },
      "outputs": [],
      "source": [
        "# 가중치와 편향(bias) 도입\n",
        "\n",
        "import numpy as np\n",
        "\n",
        "def AND (x1, x2):\n",
        "  x = np.array([x1, x2])\n",
        "  w = np.array([0.5, 0.5])\n",
        "  b = -0.7\n",
        "  tmp = np.sum(w*x) + b\n",
        "  if tmp <= 0:\n",
        "    return 0\n",
        "  else:\n",
        "    return 1"
      ]
    },
    {
      "cell_type": "code",
      "execution_count": 7,
      "metadata": {
        "colab": {
          "base_uri": "https://localhost:8080/"
        },
        "id": "kMrI5ndCvFGQ",
        "outputId": "abe55340-89e5-4fbb-c1e0-e7f0f20fbcdb"
      },
      "outputs": [
        {
          "name": "stdout",
          "output_type": "stream",
          "text": [
            "0\n",
            "0\n",
            "0\n",
            "1\n"
          ]
        }
      ],
      "source": [
        "print(AND(0,0))\n",
        "print(AND(1,0))\n",
        "print(AND(0,1))\n",
        "print(AND(1,1))"
      ]
    },
    {
      "cell_type": "code",
      "execution_count": 10,
      "metadata": {
        "id": "ZXHzkUE7vJM3"
      },
      "outputs": [],
      "source": [
        "# NAND gate\n",
        "\n",
        "import numpy as np\n",
        "\n",
        "def NAND (x1, x2):\n",
        "  x = np.array([x1, x2])\n",
        "  # 가중치와 편향의 부호만 반대로.\n",
        "  w = np.array([-0.5, -0.5])\n",
        "  b = 0.7\n",
        "  tmp = np.sum(w*x) + b\n",
        "  if tmp <= 0:\n",
        "    return 0\n",
        "  else:\n",
        "    return 1"
      ]
    },
    {
      "cell_type": "code",
      "execution_count": 11,
      "metadata": {
        "colab": {
          "base_uri": "https://localhost:8080/"
        },
        "id": "H4BVy675wrE8",
        "outputId": "82ba53c0-a92a-437b-a881-ca9c3e5c9151"
      },
      "outputs": [
        {
          "name": "stdout",
          "output_type": "stream",
          "text": [
            "1\n",
            "1\n",
            "1\n",
            "0\n"
          ]
        }
      ],
      "source": [
        "print(NAND(0,0))\n",
        "print(NAND(1,0))\n",
        "print(NAND(0,1))\n",
        "print(NAND(1,1))"
      ]
    },
    {
      "cell_type": "code",
      "execution_count": 12,
      "metadata": {
        "id": "FbWIBcIRwvts"
      },
      "outputs": [],
      "source": [
        "# OR gate\n",
        "\n",
        "import numpy as np\n",
        "\n",
        "def OR (x1, x2):\n",
        "  x = np.array([x1, x2])\n",
        "  # 편향의 값만 다르다.\n",
        "  w = np.array([0.5, 0.5])\n",
        "  b = -0.2\n",
        "  tmp = np.sum(w*x) + b\n",
        "  if tmp <= 0:\n",
        "    return 0\n",
        "  else:\n",
        "    return 1"
      ]
    },
    {
      "cell_type": "code",
      "execution_count": 13,
      "metadata": {
        "colab": {
          "base_uri": "https://localhost:8080/"
        },
        "id": "UqPzP4C6w-2I",
        "outputId": "cdfdc72a-d36e-4156-a412-5d5bd8bac1ee"
      },
      "outputs": [
        {
          "name": "stdout",
          "output_type": "stream",
          "text": [
            "0\n",
            "1\n",
            "1\n",
            "1\n"
          ]
        }
      ],
      "source": [
        "print(OR(0,0))\n",
        "print(OR(1,0))\n",
        "print(OR(0,1))\n",
        "print(OR(1,1))"
      ]
    },
    {
      "cell_type": "markdown",
      "metadata": {
        "id": "Sy6aqsk8zbaj"
      },
      "source": [
        "## Limitation of Single-layer Perceptron\n",
        "\n",
        "- XOR(배타적 논리합) 게이트를 구현할 수 없다.\n",
        "- 즉, 비선형 영역을 분리할 수 없다."
      ]
    },
    {
      "cell_type": "markdown",
      "metadata": {
        "id": "UqOJzR7E0C2H"
      },
      "source": [
        "## Multi-layer Perceptron\n",
        "\n",
        "위에서 구현한 AND, NAND, OR 게이트를 예시로 x1, x2가 입력, y가 출력일 때,  \n",
        "x1과 x2를 각각 NAND 게이트와 OR 게이트의 입력으로 하여 출력된 결과 S1, S2를 AND 게이트의 입력으로 하였을 때, XOR 게이트를 구현할 수 있다.\n",
        "\n",
        "- x1 --> s1 ⤵︎\n",
        "- ----- x ----- y\n",
        "- x2 --> s2 ⤴︎\n",
        "\n",
        "- 0층, 1층, 2층으로 이루어진 다층 퍼셉트론\n",
        "\n",
        "- Con. 퍼셉트론을 쌓는 것으로 비선형적 표현도 할 수 있다."
      ]
    },
    {
      "cell_type": "code",
      "execution_count": 17,
      "metadata": {
        "id": "y0Lz0qu_xDSi"
      },
      "outputs": [],
      "source": [
        "# XOR Gate\n",
        "\n",
        "def XOR(x1, x2):\n",
        "  s1 = NAND(x1, x2)\n",
        "  s2 = OR(x1, x2)\n",
        "  y = AND(s1, s2)\n",
        "  return y"
      ]
    },
    {
      "cell_type": "code",
      "execution_count": 18,
      "metadata": {
        "colab": {
          "base_uri": "https://localhost:8080/"
        },
        "id": "UBrBmUz83tWS",
        "outputId": "8ff38e71-bc53-4e84-ddc4-8eeb730015f2"
      },
      "outputs": [
        {
          "name": "stdout",
          "output_type": "stream",
          "text": [
            "0\n",
            "1\n",
            "1\n",
            "0\n"
          ]
        }
      ],
      "source": [
        "print(XOR(0,0))\n",
        "print(XOR(1,0))\n",
        "print(XOR(0,1))\n",
        "print(XOR(1,1))"
      ]
    },
    {
      "cell_type": "markdown",
      "metadata": {
        "id": "qGmxdZpy7EpJ"
      },
      "source": [
        "## Summary\n",
        "\n",
        "- 퍼셉트론은 입출력을 갖춘 알고리즘, 입력했을 때 정해진 규칙에 따른 값을 출력한다.\n",
        "- 퍼셉트론에서는 ‘가중치’와 ‘편향’을 매개변수로 설정한다.\n",
        "- 퍼셉트론으로 AND, OR 게이트 등의 논리 회로를 표현할 수 있다.\n",
        "- XOR 게이트는 단층 퍼셉트론으로는 표현할 수 없다.\n",
        "- 2층 퍼셉트론을 이용하면 XOR 게이트를 표현할 수 있다.\n",
        "- 단층 퍼셉트론은 직선형 영역만 표현할 수 있고, 다층 퍼셉트론은 비선형 영역도 표현할 수 있다.\n",
        "- 다층 퍼셉트론은 (이론상) 컴퓨터를 표현할 수 있다."
      ]
    },
    {
      "cell_type": "code",
      "execution_count": null,
      "metadata": {
        "id": "sTvngvH37DU1"
      },
      "outputs": [],
      "source": []
    },
    {
      "cell_type": "code",
      "execution_count": null,
      "metadata": {
        "id": "4hNTeeeP3xM8"
      },
      "outputs": [],
      "source": []
    }
  ],
  "metadata": {
    "colab": {
      "provenance": []
    },
    "kernelspec": {
      "display_name": "Python 3",
      "name": "python3"
    },
    "language_info": {
      "name": "python"
    }
  },
  "nbformat": 4,
  "nbformat_minor": 0
}
